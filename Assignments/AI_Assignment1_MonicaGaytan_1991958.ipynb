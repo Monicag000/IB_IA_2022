{
  "nbformat": 4,
  "nbformat_minor": 0,
  "metadata": {
    "colab": {
      "provenance": []
    },
    "kernelspec": {
      "name": "python3",
      "display_name": "Python 3"
    },
    "language_info": {
      "name": "python"
    }
  },
  "cells": [
    {
      "cell_type": "code",
      "execution_count": 2,
      "metadata": {
        "id": "IU79KgCr4s0k"
      },
      "outputs": [],
      "source": [
        "#A2 Python exercises \n",
        "#Mónica Damarys Gaytán Luna \n",
        "#1991958 \n",
        "#N4"
      ]
    },
    {
      "cell_type": "code",
      "source": [
        "name= input(\"Submit your name please\")"
      ],
      "metadata": {
        "colab": {
          "base_uri": "https://localhost:8080/"
        },
        "id": "G8jVINel6AfQ",
        "outputId": "8d73090d-c126-415b-d9ec-e427f88fa4de"
      },
      "execution_count": 13,
      "outputs": [
        {
          "name": "stdout",
          "output_type": "stream",
          "text": [
            "Submit your name pleaseAna\n"
          ]
        }
      ]
    },
    {
      "cell_type": "code",
      "source": [
        "if name==\"Ana\":\n",
        "  print(\"This name isn't allowed\")\n",
        "elif name==\"John\":\n",
        "  print(\"This name isn´t allowed\")\n",
        "elif name==\"Peter\":\n",
        "  print(\"This name isn´t allowed\")\n",
        "else:\n",
        "  print(\"Hello \" +name)"
      ],
      "metadata": {
        "colab": {
          "base_uri": "https://localhost:8080/"
        },
        "id": "6OUzjwCH6d5J",
        "outputId": "caeb3a6d-f5ad-4333-c778-d3af7d5f475f"
      },
      "execution_count": 14,
      "outputs": [
        {
          "output_type": "stream",
          "name": "stdout",
          "text": [
            "This name isn't allowed\n"
          ]
        }
      ]
    },
    {
      "cell_type": "code",
      "source": [
        "list=[\"Fendi\",\"Gucci\",\"LV\",\"D&G\",\"Chanel\",\"Balenciaga\"]\n",
        "print(list)\n",
        "print(list[5])\n",
        "list.reverse()\n",
        "print(list)"
      ],
      "metadata": {
        "colab": {
          "base_uri": "https://localhost:8080/"
        },
        "id": "G3p-yUPF8kUf",
        "outputId": "558d0ac1-ac82-4928-c496-0f28364eaf3e"
      },
      "execution_count": 16,
      "outputs": [
        {
          "output_type": "stream",
          "name": "stdout",
          "text": [
            "['Fendi', 'Gucci', 'LV', 'D&G', 'Chanel', 'Balenciaga']\n",
            "Balenciaga\n",
            "['Balenciaga', 'Chanel', 'D&G', 'LV', 'Gucci', 'Fendi']\n"
          ]
        }
      ]
    },
    {
      "cell_type": "code",
      "source": [
        "A=[\"*********\", \"*This   *\",\"*is     *\",\"*a      *\",\"*rect-  *\",\"*angular*\",\"*shape  *\",\"*********\"]\n",
        "for X in A:\n",
        "  print(X)"
      ],
      "metadata": {
        "colab": {
          "base_uri": "https://localhost:8080/"
        },
        "id": "-aqOLtPY-k6u",
        "outputId": "2e2c0ac1-552a-4730-cde1-7c44f5761ccd"
      },
      "execution_count": 27,
      "outputs": [
        {
          "output_type": "stream",
          "name": "stdout",
          "text": [
            "*********\n",
            "*This   *\n",
            "*is     *\n",
            "*a      *\n",
            "*rect-  *\n",
            "*angular*\n",
            "*shape  *\n",
            "*********\n"
          ]
        }
      ]
    },
    {
      "cell_type": "markdown",
      "source": [],
      "metadata": {
        "id": "Pc0XAP25En8c"
      }
    },
    {
      "cell_type": "code",
      "source": [],
      "metadata": {
        "id": "C4XSmZj2_3UO"
      },
      "execution_count": null,
      "outputs": []
    }
  ]
}